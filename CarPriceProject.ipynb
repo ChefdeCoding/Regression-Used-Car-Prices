{
 "cells": [
  {
   "cell_type": "code",
   "execution_count": 62,
   "id": "6048beb4-d623-4e83-9fee-fe4beec1dc1b",
   "metadata": {},
   "outputs": [
    {
     "name": "stdout",
     "output_type": "stream",
     "text": [
      "   id          brand              model  model_year  milage      fuel_type  \\\n",
      "0   0           MINI      Cooper S Base        2007  213000       Gasoline   \n",
      "1   1        Lincoln              LS V8        2002  143250       Gasoline   \n",
      "2   2      Chevrolet  Silverado 2500 LT        2002  136731  E85 Flex Fuel   \n",
      "3   3        Genesis   G90 5.0 Ultimate        2017   19500       Gasoline   \n",
      "4   4  Mercedes-Benz        Metris Base        2021    7388       Gasoline   \n",
      "\n",
      "                                              engine  \\\n",
      "0       172.0HP 1.6L 4 Cylinder Engine Gasoline Fuel   \n",
      "1       252.0HP 3.9L 8 Cylinder Engine Gasoline Fuel   \n",
      "2  320.0HP 5.3L 8 Cylinder Engine Flex Fuel Capab...   \n",
      "3       420.0HP 5.0L 8 Cylinder Engine Gasoline Fuel   \n",
      "4       208.0HP 2.0L 4 Cylinder Engine Gasoline Fuel   \n",
      "\n",
      "                     transmission ext_col int_col  \\\n",
      "0                             A/T  Yellow    Gray   \n",
      "1                             A/T  Silver   Beige   \n",
      "2                             A/T    Blue    Gray   \n",
      "3  Transmission w/Dual Shift Mode   Black   Black   \n",
      "4                     7-Speed A/T   Black   Beige   \n",
      "\n",
      "                                 accident clean_title  price  \n",
      "0                           None reported         Yes   4200  \n",
      "1  At least 1 accident or damage reported         Yes   4999  \n",
      "2                           None reported         Yes  13900  \n",
      "3                           None reported         Yes  45000  \n",
      "4                           None reported         Yes  97500  \n"
     ]
    }
   ],
   "source": [
    "# Importing the required packages and libraries\n",
    "# we will need numpy and pandas later\n",
    "import numpy as np\n",
    "import pandas as pd\n",
    "from sklearn.linear_model import LinearRegression\n",
    "from sklearn.model_selection import train_test_split\n",
    "from sklearn.preprocessing import StandardScaler\n",
    "\n",
    "cars_train_df = pd.read_csv('train.csv')\n",
    "cars_test_df = pd.read_csv('test.csv')\n",
    "\n",
    "# Checking the first few rows to confirm it loaded correctly\n",
    "print(cars_train_df.head())"
   ]
  },
  {
   "cell_type": "code",
   "execution_count": 64,
   "id": "9fe8b74c-b0af-4ca6-b5b7-514c40f40a05",
   "metadata": {},
   "outputs": [
    {
     "data": {
      "text/html": [
       "<div>\n",
       "<style scoped>\n",
       "    .dataframe tbody tr th:only-of-type {\n",
       "        vertical-align: middle;\n",
       "    }\n",
       "\n",
       "    .dataframe tbody tr th {\n",
       "        vertical-align: top;\n",
       "    }\n",
       "\n",
       "    .dataframe thead th {\n",
       "        text-align: right;\n",
       "    }\n",
       "</style>\n",
       "<table border=\"1\" class=\"dataframe\">\n",
       "  <thead>\n",
       "    <tr style=\"text-align: right;\">\n",
       "      <th></th>\n",
       "      <th>brand</th>\n",
       "      <th>model</th>\n",
       "      <th>model_year</th>\n",
       "      <th>milage</th>\n",
       "      <th>fuel_type</th>\n",
       "      <th>engine</th>\n",
       "      <th>transmission</th>\n",
       "      <th>ext_col</th>\n",
       "      <th>int_col</th>\n",
       "      <th>accident</th>\n",
       "      <th>clean_title</th>\n",
       "    </tr>\n",
       "  </thead>\n",
       "  <tbody>\n",
       "    <tr>\n",
       "      <th>0</th>\n",
       "      <td>MINI</td>\n",
       "      <td>Cooper S Base</td>\n",
       "      <td>2007</td>\n",
       "      <td>213000</td>\n",
       "      <td>Gasoline</td>\n",
       "      <td>172.0HP 1.6L 4 Cylinder Engine Gasoline Fuel</td>\n",
       "      <td>A/T</td>\n",
       "      <td>Yellow</td>\n",
       "      <td>Gray</td>\n",
       "      <td>None reported</td>\n",
       "      <td>Yes</td>\n",
       "    </tr>\n",
       "    <tr>\n",
       "      <th>1</th>\n",
       "      <td>Lincoln</td>\n",
       "      <td>LS V8</td>\n",
       "      <td>2002</td>\n",
       "      <td>143250</td>\n",
       "      <td>Gasoline</td>\n",
       "      <td>252.0HP 3.9L 8 Cylinder Engine Gasoline Fuel</td>\n",
       "      <td>A/T</td>\n",
       "      <td>Silver</td>\n",
       "      <td>Beige</td>\n",
       "      <td>At least 1 accident or damage reported</td>\n",
       "      <td>Yes</td>\n",
       "    </tr>\n",
       "    <tr>\n",
       "      <th>2</th>\n",
       "      <td>Chevrolet</td>\n",
       "      <td>Silverado 2500 LT</td>\n",
       "      <td>2002</td>\n",
       "      <td>136731</td>\n",
       "      <td>E85 Flex Fuel</td>\n",
       "      <td>320.0HP 5.3L 8 Cylinder Engine Flex Fuel Capab...</td>\n",
       "      <td>A/T</td>\n",
       "      <td>Blue</td>\n",
       "      <td>Gray</td>\n",
       "      <td>None reported</td>\n",
       "      <td>Yes</td>\n",
       "    </tr>\n",
       "    <tr>\n",
       "      <th>3</th>\n",
       "      <td>Genesis</td>\n",
       "      <td>G90 5.0 Ultimate</td>\n",
       "      <td>2017</td>\n",
       "      <td>19500</td>\n",
       "      <td>Gasoline</td>\n",
       "      <td>420.0HP 5.0L 8 Cylinder Engine Gasoline Fuel</td>\n",
       "      <td>Transmission w/Dual Shift Mode</td>\n",
       "      <td>Black</td>\n",
       "      <td>Black</td>\n",
       "      <td>None reported</td>\n",
       "      <td>Yes</td>\n",
       "    </tr>\n",
       "    <tr>\n",
       "      <th>4</th>\n",
       "      <td>Mercedes-Benz</td>\n",
       "      <td>Metris Base</td>\n",
       "      <td>2021</td>\n",
       "      <td>7388</td>\n",
       "      <td>Gasoline</td>\n",
       "      <td>208.0HP 2.0L 4 Cylinder Engine Gasoline Fuel</td>\n",
       "      <td>7-Speed A/T</td>\n",
       "      <td>Black</td>\n",
       "      <td>Beige</td>\n",
       "      <td>None reported</td>\n",
       "      <td>Yes</td>\n",
       "    </tr>\n",
       "  </tbody>\n",
       "</table>\n",
       "</div>"
      ],
      "text/plain": [
       "           brand              model  model_year  milage      fuel_type  \\\n",
       "0           MINI      Cooper S Base        2007  213000       Gasoline   \n",
       "1        Lincoln              LS V8        2002  143250       Gasoline   \n",
       "2      Chevrolet  Silverado 2500 LT        2002  136731  E85 Flex Fuel   \n",
       "3        Genesis   G90 5.0 Ultimate        2017   19500       Gasoline   \n",
       "4  Mercedes-Benz        Metris Base        2021    7388       Gasoline   \n",
       "\n",
       "                                              engine  \\\n",
       "0       172.0HP 1.6L 4 Cylinder Engine Gasoline Fuel   \n",
       "1       252.0HP 3.9L 8 Cylinder Engine Gasoline Fuel   \n",
       "2  320.0HP 5.3L 8 Cylinder Engine Flex Fuel Capab...   \n",
       "3       420.0HP 5.0L 8 Cylinder Engine Gasoline Fuel   \n",
       "4       208.0HP 2.0L 4 Cylinder Engine Gasoline Fuel   \n",
       "\n",
       "                     transmission ext_col int_col  \\\n",
       "0                             A/T  Yellow    Gray   \n",
       "1                             A/T  Silver   Beige   \n",
       "2                             A/T    Blue    Gray   \n",
       "3  Transmission w/Dual Shift Mode   Black   Black   \n",
       "4                     7-Speed A/T   Black   Beige   \n",
       "\n",
       "                                 accident clean_title  \n",
       "0                           None reported         Yes  \n",
       "1  At least 1 accident or damage reported         Yes  \n",
       "2                           None reported         Yes  \n",
       "3                           None reported         Yes  \n",
       "4                           None reported         Yes  "
      ]
     },
     "execution_count": 64,
     "metadata": {},
     "output_type": "execute_result"
    }
   ],
   "source": [
    "# Creating the Feature Matrix for iris dataset:\n",
    "\n",
    "# create a python list of feature names that would like to pick from the dataset:\n",
    "# Start by selecting the relevant columns for prediction\n",
    "feature_cols = [\n",
    "    'brand',       # Categorical\n",
    "    'model',       # Categorical\n",
    "    'model_year',  # Numeric\n",
    "    'milage',      # Numeric\n",
    "    'fuel_type',   # Categorical\n",
    "    'engine',      # categorical\n",
    "    'transmission', # Categorical\n",
    "    'ext_col',     # Categorical (possibly useful for aesthetics affecting price)\n",
    "    'int_col',     # Categorical\n",
    "    'accident',    # Categorical\n",
    "    'clean_title'  # Binary/Categorical\n",
    "]\n",
    "\n",
    "# use the above list to select the features from the original DataFrame\n",
    "X = cars_train_df[feature_cols]  \n",
    "\n",
    "# print the first 5 rows\n",
    "X.head()"
   ]
  },
  {
   "cell_type": "code",
   "execution_count": 66,
   "id": "ef09e312-9952-4e84-a6ab-6c99aa1dbcd8",
   "metadata": {},
   "outputs": [
    {
     "name": "stdout",
     "output_type": "stream",
     "text": [
      "(188533, 11)\n"
     ]
    }
   ],
   "source": [
    "# checking the size of Feature Matix X:\n",
    "\n",
    "print(X.shape)"
   ]
  },
  {
   "cell_type": "code",
   "execution_count": 68,
   "id": "0af627e2-0db1-4555-8520-37b422c403bf",
   "metadata": {},
   "outputs": [
    {
     "data": {
      "text/plain": [
       "0          4200\n",
       "10         7950\n",
       "20        41998\n",
       "30        39499\n",
       "40        12000\n",
       "          ...  \n",
       "188490    60867\n",
       "188500     4300\n",
       "188510    16499\n",
       "188520    39998\n",
       "188530    86900\n",
       "Name: price, Length: 18854, dtype: int64"
      ]
     },
     "execution_count": 68,
     "metadata": {},
     "output_type": "execute_result"
    }
   ],
   "source": [
    "# select a Series of labels (the last column) from the DataFrame\n",
    "y = cars_train_df['price']\n",
    "\n",
    "# checking the label vector by printing every 10 values\n",
    "y[::10]"
   ]
  },
  {
   "cell_type": "code",
   "execution_count": 80,
   "id": "725b7ec4-d0bc-43d1-8645-e9b9708071a4",
   "metadata": {},
   "outputs": [
    {
     "name": "stdout",
     "output_type": "stream",
     "text": [
      "(188533, 3601)\n"
     ]
    }
   ],
   "source": [
    "# we need to convert to binary for this most basic version\n",
    "# using one hot encoding\n",
    "# Check the shape of the new feature matrix\n",
    "X_encoded = pd.get_dummies(X, drop_first=True)\n",
    "\n",
    "print(X_encoded.shape)"
   ]
  },
  {
   "cell_type": "code",
   "execution_count": 74,
   "id": "1426708f-818f-4725-bd58-c6e3b6f167e5",
   "metadata": {},
   "outputs": [],
   "source": [
    "X_train, X_test, y_train, y_test = train_test_split(X_encoded, y, test_size=0.2, random_state=42)\n",
    "\n",
    "# Standardizing the features using StandardScaler (optional, but often helps with convergence)\n",
    "scaler = StandardScaler()\n",
    "X_train_scaled = scaler.fit_transform(X_train)\n",
    "X_test_scaled = scaler.transform(X_test)\n"
   ]
  },
  {
   "cell_type": "code",
   "execution_count": 76,
   "id": "c1aa48ad-c647-4bb0-a615-4c74d1e45619",
   "metadata": {},
   "outputs": [
    {
     "name": "stdout",
     "output_type": "stream",
     "text": [
      "[58228.72403641 69668.81707681 56693.17747579 ... 28216.02590084\n",
      " 15204.56384298 22065.90570781]\n"
     ]
    }
   ],
   "source": [
    "my_linreg = LinearRegression()\n",
    "\n",
    "my_linreg.fit(X_train_scaled, y_train)\n",
    "\n",
    "# Making predictions on the test data\n",
    "y_predict_lr = my_linreg.predict(X_test_scaled)\n",
    "\n",
    "print(y_predict_lr)"
   ]
  },
  {
   "cell_type": "code",
   "execution_count": 78,
   "id": "a6a6c7b2-1fa1-45a7-aefd-9b1ba1c0abcf",
   "metadata": {},
   "outputs": [
    {
     "name": "stdout",
     "output_type": "stream",
     "text": [
      "Mean Squared Error: 1.1628486743771385e+33\n",
      "Root Mean Squared Error: 3.410056706826352e+16\n"
     ]
    }
   ],
   "source": [
    "# Calculate the Mean Squared Error (MSE) to evaluate the model's performance\n",
    "from sklearn.metrics import mean_squared_error\n",
    "mse = mean_squared_error(y_test, y_predict_lr)\n",
    "print(\"Mean Squared Error:\", mse)\n",
    "\n",
    "# Calculate the Root Mean Squared Error (RMSE) for easier interpretation\n",
    "rmse = np.sqrt(mse)\n",
    "print(\"Root Mean Squared Error:\", rmse)"
   ]
  },
  {
   "cell_type": "code",
   "execution_count": null,
   "id": "2c614d88-b13d-4227-b790-547f02bf6a3c",
   "metadata": {},
   "outputs": [],
   "source": []
  }
 ],
 "metadata": {
  "kernelspec": {
   "display_name": "Python 3 (ipykernel)",
   "language": "python",
   "name": "python3"
  },
  "language_info": {
   "codemirror_mode": {
    "name": "ipython",
    "version": 3
   },
   "file_extension": ".py",
   "mimetype": "text/x-python",
   "name": "python",
   "nbconvert_exporter": "python",
   "pygments_lexer": "ipython3",
   "version": "3.12.4"
  }
 },
 "nbformat": 4,
 "nbformat_minor": 5
}
